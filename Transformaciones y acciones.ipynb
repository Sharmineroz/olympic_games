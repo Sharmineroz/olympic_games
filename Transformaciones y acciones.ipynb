{
 "cells": [
  {
   "cell_type": "code",
   "execution_count": 1,
   "id": "b591a8a0",
   "metadata": {},
   "outputs": [],
   "source": [
    "from pyspark import SparkContext"
   ]
  },
  {
   "cell_type": "code",
   "execution_count": 57,
   "id": "863f178c",
   "metadata": {},
   "outputs": [],
   "source": [
    "sc = SparkContext(master=\"local\", appName=\"transformacionesYAcciones\")"
   ]
  },
  {
   "cell_type": "code",
   "execution_count": 48,
   "id": "84bc2d65",
   "metadata": {},
   "outputs": [
    {
     "data": {
      "text/plain": [
       "pyspark.rdd.RDD"
      ]
     },
     "execution_count": 48,
     "metadata": {},
     "output_type": "execute_result"
    }
   ],
   "source": [
    "rdd1 = sc.parallelize([1,2,3])\n",
    "type(rdd1)"
   ]
  },
  {
   "cell_type": "code",
   "execution_count": 49,
   "id": "2c6effa7",
   "metadata": {},
   "outputs": [
    {
     "data": {
      "text/plain": [
       "[1, 2, 3]"
      ]
     },
     "execution_count": 49,
     "metadata": {},
     "output_type": "execute_result"
    }
   ],
   "source": [
    "rdd1.collect()"
   ]
  },
  {
   "cell_type": "code",
   "execution_count": 50,
   "id": "1876c4dd",
   "metadata": {},
   "outputs": [
    {
     "data": {
      "text/html": [
       "\n",
       "        <div>\n",
       "            <p><b>SparkContext</b></p>\n",
       "\n",
       "            <p><a href=\"http://DESKTOP-J2N5N4M:4040\">Spark UI</a></p>\n",
       "\n",
       "            <dl>\n",
       "              <dt>Version</dt>\n",
       "                <dd><code>v2.4.8</code></dd>\n",
       "              <dt>Master</dt>\n",
       "                <dd><code>local</code></dd>\n",
       "              <dt>AppName</dt>\n",
       "                <dd><code>transformacionesYAcciones</code></dd>\n",
       "            </dl>\n",
       "        </div>\n",
       "        "
      ],
      "text/plain": [
       "<SparkContext master=local appName=transformacionesYAcciones>"
      ]
     },
     "execution_count": 50,
     "metadata": {},
     "output_type": "execute_result"
    }
   ],
   "source": [
    "sc"
   ]
  },
  {
   "cell_type": "code",
   "execution_count": 59,
   "id": "5c5af167",
   "metadata": {},
   "outputs": [
    {
     "name": "stdout",
     "output_type": "stream",
     "text": [
      " Volume in drive C has no label.\n",
      " Volume Serial Number is 4018-8CE2\n",
      "\n",
      " Directory of C:\\Users\\Cardo\\Documents\\Spark_platzi\\files\n",
      "\n",
      "02/15/2022  09:19 PM    <DIR>          .\n",
      "02/15/2022  09:19 PM    <DIR>          ..\n",
      "08/30/2020  01:47 PM               946 deporte.csv\n",
      "08/30/2020  01:47 PM         2,764,536 deportista.csv\n",
      "08/30/2020  01:47 PM         2,807,091 deportista2.csv\n",
      "08/30/2020  01:47 PM         2,776,782 deportistaError.csv\n",
      "08/30/2020  01:47 PM            33,262 evento.csv\n",
      "08/30/2020  01:47 PM             1,978 juegos.csv\n",
      "08/30/2020  01:47 PM           255,853 modelo_relacional.jpg\n",
      "08/30/2020  01:47 PM            23,606 paises.csv\n",
      "08/30/2020  01:47 PM         6,172,796 resultados.csv\n",
      "               9 File(s)     14,836,850 bytes\n",
      "               2 Dir(s)  190,893,006,848 bytes free\n"
     ]
    }
   ],
   "source": [
    "!dir files"
   ]
  },
  {
   "cell_type": "code",
   "execution_count": 53,
   "id": "a06aadc4",
   "metadata": {},
   "outputs": [],
   "source": [
    "path = \"files/\"\n",
    "\n",
    "equiposOlimpicosRDD = (sc.textFile(path+\"paises.csv\")\n",
    "                    .map(lambda line: line.split(\",\")))"
   ]
  },
  {
   "cell_type": "code",
   "execution_count": 54,
   "id": "a78d502e",
   "metadata": {},
   "outputs": [
    {
     "data": {
      "text/plain": [
       "[['id', 'equipo', 'sigla'],\n",
       " ['1', '30. Februar', 'AUT'],\n",
       " ['2', 'A North American Team', 'MEX'],\n",
       " ['3', 'Acipactli', 'MEX'],\n",
       " ['4', 'Acturus', 'ARG']]"
      ]
     },
     "execution_count": 54,
     "metadata": {},
     "output_type": "execute_result"
    }
   ],
   "source": [
    "equiposOlimpicosRDD.take(5)"
   ]
  },
  {
   "cell_type": "code",
   "execution_count": 60,
   "id": "bc5154b3",
   "metadata": {},
   "outputs": [],
   "source": [
    "eventosOlimpicosRDD = (sc.textFile(path+\"evento.csv\")\n",
    "                    .map(lambda line: line.split(\",\")))"
   ]
  },
  {
   "cell_type": "code",
   "execution_count": 61,
   "id": "039e8eea",
   "metadata": {},
   "outputs": [
    {
     "data": {
      "text/plain": [
       "[['evento_id', 'evento', 'deporte_id'],\n",
       " ['1', \"Basketball Men's Basketball\", '1'],\n",
       " ['2', \"Judo Men's Extra-Lightweight\", '2'],\n",
       " ['3', \"Football Men's Football\", '3'],\n",
       " ['4', \"Tug-Of-War Men's Tug-Of-War\", '4']]"
      ]
     },
     "execution_count": 61,
     "metadata": {},
     "output_type": "execute_result"
    }
   ],
   "source": [
    "eventosOlimpicosRDD.take(5)"
   ]
  },
  {
   "cell_type": "code",
   "execution_count": 62,
   "id": "c5739af9",
   "metadata": {},
   "outputs": [],
   "source": [
    "sc.stop()"
   ]
  }
 ],
 "metadata": {
  "kernelspec": {
   "display_name": "Python 3 (ipykernel)",
   "language": "python",
   "name": "python3"
  },
  "language_info": {
   "codemirror_mode": {
    "name": "ipython",
    "version": 3
   },
   "file_extension": ".py",
   "mimetype": "text/x-python",
   "name": "python",
   "nbconvert_exporter": "python",
   "pygments_lexer": "ipython3",
   "version": "3.7.5"
  }
 },
 "nbformat": 4,
 "nbformat_minor": 5
}
