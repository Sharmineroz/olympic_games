{
 "cells": [
  {
   "cell_type": "code",
   "execution_count": 1,
   "id": "810169d8",
   "metadata": {},
   "outputs": [],
   "source": [
    "from pyspark.sql import SparkSession"
   ]
  },
  {
   "cell_type": "code",
   "execution_count": 2,
   "id": "0ce42842",
   "metadata": {},
   "outputs": [],
   "source": [
    "spark.stop()"
   ]
  },
  {
   "cell_type": "code",
   "execution_count": 3,
   "id": "a5ae9fec",
   "metadata": {},
   "outputs": [],
   "source": [
    "spark = SparkSession.builder.appName(\"Particionado\")\\\n",
    "    .master(\"local[5]\").getOrCreate() #indicar que debe hacer 5 particionamientos en local"
   ]
  },
  {
   "cell_type": "code",
   "execution_count": 6,
   "id": "15c15dba",
   "metadata": {},
   "outputs": [
    {
     "data": {
      "text/plain": [
       "5"
      ]
     },
     "execution_count": 6,
     "metadata": {},
     "output_type": "execute_result"
    }
   ],
   "source": [
    "df = spark.range(0,20)\n",
    "df.rdd.getNumPartitions()"
   ]
  },
  {
   "cell_type": "code",
   "execution_count": 7,
   "id": "928899ae",
   "metadata": {},
   "outputs": [
    {
     "data": {
      "text/plain": [
       "10"
      ]
     },
     "execution_count": 7,
     "metadata": {},
     "output_type": "execute_result"
    }
   ],
   "source": [
    "rdd1 = spark.sparkContext.parallelize((0,20),10)\n",
    "rdd1.getNumPartitions()"
   ]
  },
  {
   "cell_type": "code",
   "execution_count": 11,
   "id": "8e94b8fe",
   "metadata": {},
   "outputs": [],
   "source": [
    "rddDesdeArchivo = spark\\\n",
    "    .sparkContext\\\n",
    "    .textFile(\"files/deporte.csv\", 10)"
   ]
  },
  {
   "cell_type": "code",
   "execution_count": 12,
   "id": "13fa8d3b",
   "metadata": {},
   "outputs": [
    {
     "data": {
      "text/plain": [
       "10"
      ]
     },
     "execution_count": 12,
     "metadata": {},
     "output_type": "execute_result"
    }
   ],
   "source": [
    "rddDesdeArchivo.getNumPartitions()"
   ]
  },
  {
   "cell_type": "code",
   "execution_count": 13,
   "id": "0b365219",
   "metadata": {},
   "outputs": [],
   "source": [
    "rddDesdeArchivo.saveAsTextFile(\"salida/\")"
   ]
  },
  {
   "cell_type": "code",
   "execution_count": 19,
   "id": "575134e3",
   "metadata": {},
   "outputs": [
    {
     "name": "stdout",
     "output_type": "stream",
     "text": [
      " Volume in drive C has no label.\n",
      " Volume Serial Number is 4018-8CE2\n",
      "\n",
      " Directory of C:\\Users\\Cardo\\Documents\\Spark_platzi\\salida\n",
      "\n",
      "02/25/2022  08:31 PM    <DIR>          .\n",
      "02/25/2022  08:31 PM    <DIR>          ..\n",
      "02/25/2022  08:30 PM                12 .part-00000.crc\n",
      "02/25/2022  08:30 PM                12 .part-00001.crc\n",
      "02/25/2022  08:30 PM                12 .part-00002.crc\n",
      "02/25/2022  08:30 PM                12 .part-00003.crc\n",
      "02/25/2022  08:30 PM                12 .part-00004.crc\n",
      "02/25/2022  08:30 PM                12 .part-00005.crc\n",
      "02/25/2022  08:31 PM                12 .part-00006.crc\n",
      "02/25/2022  08:30 PM                12 .part-00007.crc\n",
      "02/25/2022  08:30 PM                12 .part-00008.crc\n",
      "02/25/2022  08:31 PM                12 .part-00009.crc\n",
      "02/25/2022  08:31 PM                 8 ._SUCCESS.crc\n",
      "02/25/2022  08:30 PM               102 part-00000\n",
      "02/25/2022  08:30 PM               106 part-00001\n",
      "02/25/2022  08:30 PM                81 part-00002\n",
      "02/25/2022  08:30 PM                96 part-00003\n",
      "02/25/2022  08:30 PM                90 part-00004\n",
      "02/25/2022  08:30 PM                97 part-00005\n",
      "02/25/2022  08:31 PM                87 part-00006\n",
      "02/25/2022  08:30 PM               113 part-00007\n",
      "02/25/2022  08:30 PM                94 part-00008\n",
      "02/25/2022  08:31 PM                80 part-00009\n",
      "02/25/2022  08:31 PM                 0 _SUCCESS\n",
      "              22 File(s)          1,074 bytes\n",
      "               2 Dir(s)  187,444,477,952 bytes free\n"
     ]
    }
   ],
   "source": [
    "!dir \"salida/\""
   ]
  },
  {
   "cell_type": "code",
   "execution_count": 20,
   "id": "594e60cd",
   "metadata": {},
   "outputs": [],
   "source": [
    "rdd = spark.sparkContext.wholeTextFiles(\"salida/*\")"
   ]
  },
  {
   "cell_type": "code",
   "execution_count": 21,
   "id": "4d773e52",
   "metadata": {},
   "outputs": [
    {
     "data": {
      "text/plain": [
       "[('file:/C:/Users/Cardo/Documents/Spark_platzi/salida/part-00000',\n",
       "  'deporte_id,deporte\\n1,Basketball\\n2,Judo\\n3,Football\\n4,Tug-Of-War\\n5,Speed Skating\\n6,Cross Country Skiing\\n'),\n",
       " ('file:/C:/Users/Cardo/Documents/Spark_platzi/salida/part-00001',\n",
       "  '7,Athletics\\n8,Ice Hockey\\n9,Swimming\\n10,Badminton\\n11,Sailing\\n12,Biathlon\\n13,Gymnastics\\n14,Art Competitions\\n'),\n",
       " ('file:/C:/Users/Cardo/Documents/Spark_platzi/salida/part-00002',\n",
       "  '15,Alpine Skiing\\n16,Handball\\n17,Weightlifting\\n18,Wrestling\\n19,Luge\\n20,Water Polo\\n'),\n",
       " ('file:/C:/Users/Cardo/Documents/Spark_platzi/salida/part-00003',\n",
       "  '21,Hockey\\n22,Rowing\\n23,Bobsleigh\\n24,Fencing\\n25,Equestrianism\\n26,Shooting\\n27,Boxing\\n28,Taekwondo\\n')]"
      ]
     },
     "execution_count": 21,
     "metadata": {},
     "output_type": "execute_result"
    }
   ],
   "source": [
    "rdd.take(4)"
   ]
  },
  {
   "cell_type": "code",
   "execution_count": 36,
   "id": "9172c672",
   "metadata": {},
   "outputs": [],
   "source": [
    "lista = rdd.mapValues(lambda x: x.split()).collect()"
   ]
  },
  {
   "cell_type": "code",
   "execution_count": 37,
   "id": "83493a55",
   "metadata": {},
   "outputs": [
    {
     "data": {
      "text/plain": [
       "['file:/C:/Users/Cardo/Documents/Spark_platzi/salida/part-00000',\n",
       " 'file:/C:/Users/Cardo/Documents/Spark_platzi/salida/part-00001',\n",
       " 'file:/C:/Users/Cardo/Documents/Spark_platzi/salida/part-00002',\n",
       " 'file:/C:/Users/Cardo/Documents/Spark_platzi/salida/part-00003',\n",
       " 'file:/C:/Users/Cardo/Documents/Spark_platzi/salida/part-00004',\n",
       " 'file:/C:/Users/Cardo/Documents/Spark_platzi/salida/part-00005',\n",
       " 'file:/C:/Users/Cardo/Documents/Spark_platzi/salida/part-00006',\n",
       " 'file:/C:/Users/Cardo/Documents/Spark_platzi/salida/part-00007',\n",
       " 'file:/C:/Users/Cardo/Documents/Spark_platzi/salida/part-00008',\n",
       " 'file:/C:/Users/Cardo/Documents/Spark_platzi/salida/part-00009']"
      ]
     },
     "execution_count": 37,
     "metadata": {},
     "output_type": "execute_result"
    }
   ],
   "source": [
    "lista = [l[0] for l in lista]\n",
    "lista.sort()\n",
    "lista"
   ]
  },
  {
   "cell_type": "code",
   "execution_count": 38,
   "id": "0f48dce1",
   "metadata": {},
   "outputs": [],
   "source": [
    "rdd2 = spark.sparkContext.textFile(','.join(lista), 10).map(lambda l: l.split(\",\"))"
   ]
  },
  {
   "cell_type": "code",
   "execution_count": 39,
   "id": "c8420f15",
   "metadata": {},
   "outputs": [
    {
     "data": {
      "text/plain": [
       "[['deporte_id', 'deporte'],\n",
       " ['1', 'Basketball'],\n",
       " ['2', 'Judo'],\n",
       " ['3', 'Football'],\n",
       " ['4', 'Tug-Of-War']]"
      ]
     },
     "execution_count": 39,
     "metadata": {},
     "output_type": "execute_result"
    }
   ],
   "source": [
    "rdd2.take(5)"
   ]
  }
 ],
 "metadata": {
  "kernelspec": {
   "display_name": "Python 3 (ipykernel)",
   "language": "python",
   "name": "python3"
  },
  "language_info": {
   "codemirror_mode": {
    "name": "ipython",
    "version": 3
   },
   "file_extension": ".py",
   "mimetype": "text/x-python",
   "name": "python",
   "nbconvert_exporter": "python",
   "pygments_lexer": "ipython3",
   "version": "3.7.5"
  }
 },
 "nbformat": 4,
 "nbformat_minor": 5
}
